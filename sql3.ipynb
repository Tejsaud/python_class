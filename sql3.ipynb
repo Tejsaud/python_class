{
 "cells": [
  {
   "cell_type": "code",
   "execution_count": 1,
   "id": "bdb8240c-2eb7-484a-a06c-7160f92cd009",
   "metadata": {},
   "outputs": [
    {
     "name": "stdout",
     "output_type": "stream",
     "text": [
      "Requirement already satisfied: mysql-connector-python in c:\\users\\ganesh shaud\\anaconda3\\lib\\site-packages (8.4.0)\n"
     ]
    }
   ],
   "source": [
    "!pip install mysql-connector-python"
   ]
  },
  {
   "cell_type": "code",
   "execution_count": 5,
   "id": "8173dfcd-9292-474f-b04c-44816296204c",
   "metadata": {},
   "outputs": [],
   "source": [
    "# connecting database \n",
    "import mysql.connector\n",
    "database = mysql.connector.connect(\n",
    "    host=\"localhost\",\n",
    "    user=\"root\",\n",
    "    password=\"\",\n",
    "    database = \"grade_10\"\n",
    ")\n",
    "mycursor = database.cursor()"
   ]
  },
  {
   "cell_type": "code",
   "execution_count": 16,
   "id": "d6de6912-8a91-42bd-96e1-bc80d066787f",
   "metadata": {},
   "outputs": [
    {
     "name": "stdout",
     "output_type": "stream",
     "text": [
      "(1, '18', '50', '89', '87', '57', 76.0, 400, 'A')\n",
      "(2, '65', '67', '78', '56', '47', 86.0, 300, 'B')\n",
      "(24, '87', '95', '68', '86', '79', 58.0, 500, 'B+')\n",
      "(26, '99', '98', '78', '97', '68', 60.0, 0, 'A+')\n"
     ]
    }
   ],
   "source": [
    "mycursor.execute(\"SELECT *FROM STUDENT\")\n",
    "result = mycursor.fetchall()\n",
    "for x in result:\n",
    "    print(x)"
   ]
  },
  {
   "cell_type": "code",
   "execution_count": 13,
   "id": "9be42b4e-c25d-4d9f-b800-a3768add91b7",
   "metadata": {},
   "outputs": [
    {
     "name": "stdout",
     "output_type": "stream",
     "text": [
      "1 record inserted.\n"
     ]
    }
   ],
   "source": [
    "sql = '''INSERT INTO `student` (`sn`, `physics`, `chemistry`, `nepali`, `math`, `english`, `per`, `total`, `grade`) \n",
    "VALUES ('26', '99', '98', '78', '97', '68', '60', '', 'A+');'''\n",
    "mycursor.execute(sql)\n",
    "database.commit()\n",
    "print(mycursor.rowcount,\"record inserted.\")"
   ]
  },
  {
   "cell_type": "code",
   "execution_count": null,
   "id": "96a14313-1ca8-4e03-a845-2ef395420881",
   "metadata": {},
   "outputs": [],
   "source": []
  },
  {
   "cell_type": "code",
   "execution_count": null,
   "id": "c8e5d5ac-83d3-4d2f-8179-44bc07339d5a",
   "metadata": {},
   "outputs": [],
   "source": [
    "#update sql"
   ]
  },
  {
   "cell_type": "code",
   "execution_count": 8,
   "id": "ba0af1aa-a0df-409a-a1bd-eb8793e6dac2",
   "metadata": {},
   "outputs": [
    {
     "name": "stdout",
     "output_type": "stream",
     "text": [
      "1 record updated.\n"
     ]
    }
   ],
   "source": [
    "sql = \"UPDATE student SET physics = '18' WHERE sn = 21\"\n",
    "mycursor.execute(sql)\n",
    "database.commit()\n",
    "print(mycursor.rowcount, \"record updated.\")"
   ]
  },
  {
   "cell_type": "code",
   "execution_count": 11,
   "id": "e73ac1c2-b4e3-425e-b677-fa5a141e0898",
   "metadata": {},
   "outputs": [
    {
     "name": "stdout",
     "output_type": "stream",
     "text": [
      "1 record(s) delete\n"
     ]
    }
   ],
   "source": [
    "#delete in sql \n",
    "sql = \"DELETE FROM student WHERE sn = 26\"\n",
    "mycursor.execute(sql)\n",
    "database.commit()\n",
    "print(mycursor.rowcount, \"record(s) delete\")"
   ]
  },
  {
   "cell_type": "code",
   "execution_count": 21,
   "id": "03f323a7-89b8-4891-83fb-7c544c98262f",
   "metadata": {},
   "outputs": [
    {
     "name": "stdout",
     "output_type": "stream",
     "text": [
      "(1, '18', '50', '89', '87', '57', 76.0, 400, 'A')\n"
     ]
    }
   ],
   "source": [
    "#select\n",
    "mycursor.execute(\"SELECT *FROM STUDENT where grade ='A'\")\n",
    "result = mycursor.fetchall()\n",
    "for x in result:\n",
    "    print(x)"
   ]
  },
  {
   "cell_type": "code",
   "execution_count": 30,
   "id": "45f7d01b-546a-4942-9080-fa92c2c1da62",
   "metadata": {},
   "outputs": [
    {
     "name": "stdout",
     "output_type": "stream",
     "text": [
      "(2, '65', '67', '78', '56', '47', 86.0, 300, 'B')\n"
     ]
    }
   ],
   "source": [
    "#search\n",
    "mycursor.execute(\"SELECT *FROM STUDENT where physics like '%5%'\") #%5% sabai aucha,, %5 pachadi 5 vayeko sabai aucha,, 5% agadi 5 vayeko sabai aucha\n",
    "result = mycursor.fetchall()\n",
    "for x in result:\n",
    "    print(x)"
   ]
  },
  {
   "cell_type": "code",
   "execution_count": 31,
   "id": "8108bb9f-4203-4b0d-97fc-52fa5dd5cf69",
   "metadata": {},
   "outputs": [
    {
     "name": "stdout",
     "output_type": "stream",
     "text": [
      "(26, '99', '98', '78', '97', '68', 60.0, 0, 'A+')\n"
     ]
    }
   ],
   "source": [
    "#search\n",
    "mycursor.execute(\"SELECT *FROM STUDENT where physics like '9%'\") #%9% sabai aucha,, 95 pachadi 5 vayeko sabai aucha,, 9% agadi 9 vayeko sabai aucha\n",
    "result = mycursor.fetchall()\n",
    "for x in result:\n",
    "    print(x)"
   ]
  },
  {
   "cell_type": "code",
   "execution_count": null,
   "id": "553435bf-a054-42f9-86f0-7725f31a360e",
   "metadata": {},
   "outputs": [],
   "source": [
    "select "
   ]
  },
  {
   "cell_type": "code",
   "execution_count": null,
   "id": "cd160d17-802f-4984-a392-202cf21781fc",
   "metadata": {},
   "outputs": [],
   "source": []
  }
 ],
 "metadata": {
  "kernelspec": {
   "display_name": "Python 3 (ipykernel)",
   "language": "python",
   "name": "python3"
  },
  "language_info": {
   "codemirror_mode": {
    "name": "ipython",
    "version": 3
   },
   "file_extension": ".py",
   "mimetype": "text/x-python",
   "name": "python",
   "nbconvert_exporter": "python",
   "pygments_lexer": "ipython3",
   "version": "3.11.7"
  }
 },
 "nbformat": 4,
 "nbformat_minor": 5
}
