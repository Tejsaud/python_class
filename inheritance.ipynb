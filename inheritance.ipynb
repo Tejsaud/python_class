{
 "cells": [
  {
   "cell_type": "code",
   "execution_count": null,
   "id": "b47b00a4-7b64-4ce3-a5a7-117085a54beb",
   "metadata": {},
   "outputs": [],
   "source": [
    "# inheritance\n"
   ]
  },
  {
   "cell_type": "code",
   "execution_count": null,
   "id": "1aec4f59-8a75-4ed9-877e-d885ca2a58cc",
   "metadata": {},
   "outputs": [],
   "source": []
  },
  {
   "cell_type": "code",
   "execution_count": 8,
   "id": "5a54678e-1fd2-4994-abf2-0bc9ad00713b",
   "metadata": {},
   "outputs": [
    {
     "name": "stdout",
     "output_type": "stream",
     "text": [
      "welcome my house A\n",
      "welcome my house B\n",
      "welcome my house C\n"
     ]
    }
   ],
   "source": [
    "# EXAMPLE OF INHERITANCE\n",
    "class A:\n",
    "    def displayA(self):\n",
    "        print(\"welcome my house A\")\n",
    "\n",
    "class B:\n",
    "    def displayB(self):\n",
    "        print(\"welcome my house B\")\n",
    "\n",
    "class C(A,B):      # hamila jahela pani inheratance ma priority dinu parxa left side ko lai ex. (A,B ) xa vana (B,A) lakhna jun parent class last ma auxa tasli pahela child ma rakhna hai taw guys.\n",
    "    def displayC(self):\n",
    "        print(\"welcome my house C\")\n",
    "obj = C()\n",
    "obj.displayA()\n",
    "obj.displayB()\n",
    "obj.displayC()"
   ]
  },
  {
   "cell_type": "code",
   "execution_count": 11,
   "id": "6bf4c705-1631-4e6c-8021-d7a8c971c3b1",
   "metadata": {},
   "outputs": [
    {
     "name": "stdout",
     "output_type": "stream",
     "text": [
      "hiphop\n",
      "tej\n",
      "20\n"
     ]
    }
   ],
   "source": [
    "# EXAMPLE OF MULTIPAL INHERITANCE \n",
    "# DEFINATION : IT IS WHEN A CLASS CAN INHERIT ATTRIBUTE AND METHODS FROM MORE THAN ONE PARENT CLASS \n",
    "class Human:  # this is parent class\n",
    "    def __init__(self,name,age):\n",
    "        self.name = name\n",
    "        self.age = age\n",
    "\n",
    "class Dancer:  # this is also parent class \n",
    "    def __init__(self,style): #this is c\n",
    "        self.style = style\n",
    "\n",
    "class Student(Human,Dancer): # this is child class . yauta kura hamila bujnunu parna  parent class  ko property chae child class le bokira hunxa but child class le parent class ko property chae bokdaina hai guys . \n",
    "    def __init__(self,name,age,style):\n",
    "        Human.__init__(self,name,age)\n",
    "        Dancer.__init__(self,style)\n",
    "    \n",
    "\n",
    "tej = Student('tej',20,\"hiphop\")\n",
    "print(tej.style)\n",
    "print(tej.name)\n",
    "print(tej.age)"
   ]
  },
  {
   "cell_type": "code",
   "execution_count": null,
   "id": "ec5f5bfb-1965-4991-a90d-70cbbe355873",
   "metadata": {},
   "outputs": [],
   "source": []
  },
  {
   "cell_type": "code",
   "execution_count": null,
   "id": "0b8c860b-e618-41b5-930a-a66f1312a96f",
   "metadata": {},
   "outputs": [],
   "source": []
  }
 ],
 "metadata": {
  "kernelspec": {
   "display_name": "Python 3 (ipykernel)",
   "language": "python",
   "name": "python3"
  },
  "language_info": {
   "codemirror_mode": {
    "name": "ipython",
    "version": 3
   },
   "file_extension": ".py",
   "mimetype": "text/x-python",
   "name": "python",
   "nbconvert_exporter": "python",
   "pygments_lexer": "ipython3",
   "version": "3.11.7"
  }
 },
 "nbformat": 4,
 "nbformat_minor": 5
}
