{
 "cells": [
  {
   "cell_type": "code",
   "execution_count": 10,
   "id": "0e05776f-d4c4-4da6-9bfa-82d405fad65c",
   "metadata": {},
   "outputs": [],
   "source": [
    "#CREATING DATABASE\n",
    "import mysql.connector\n",
    "database = mysql.connector\n",
    "database = mysql.connector.connect(\n",
    "    host = \"localhost\",\n",
    "    user = \"root\",\n",
    "    password = \"\"\n",
    ")\n",
    "mycursor = database.cursor()\n",
    "mycursor.execute(\"CREATE DATABASE Database1\")"
   ]
  },
  {
   "cell_type": "code",
   "execution_count": 15,
   "id": "ccdd151b-f837-4ae1-9ffe-77616c74c8c9",
   "metadata": {},
   "outputs": [],
   "source": [
    "#CONNECTING DATABSE\n",
    "database = mysql.connector.connect(\n",
    "    host = \"localhost\",\n",
    "    user = \"root\",\n",
    "    password = \"\",\n",
    "      database = \"collage_nast\"\n",
    ")\n",
    "db = database.cursor()"
   ]
  },
  {
   "cell_type": "code",
   "execution_count": 16,
   "id": "fd2e92c2-1fbf-4bba-a021-9147e87caef0",
   "metadata": {},
   "outputs": [
    {
     "name": "stdout",
     "output_type": "stream",
     "text": [
      "(1, 'tej', 70, 89, 90, 68, 76, 69, 77, 'A')\n",
      "(2, 'ravi', 66, 66, 65, 67, 68, 77, 59, 'A')\n",
      "(3, 'tirtha', 70, 89, 65, 68, 76, 69, 76, 'B')\n",
      "(4, 'sikha', 62, 63, 64, 65, 68, 69, 70, 'B')\n",
      "(5, 'sita', 59, 58, 56, 54, 67, 89, 60, 'B+')\n",
      "(6, 'ramita', 47, 56, 70, 80, 67, 59, 58, 'C')\n",
      "(7, 'karishma', 69, 69, 66, 65, 56, 54, 53, 'C+')\n"
     ]
    }
   ],
   "source": [
    "db.execute(\"select * from student\")\n",
    "result = db.fetchall()\n",
    "for x in result:\n",
    "    print(x)"
   ]
  },
  {
   "cell_type": "code",
   "execution_count": 25,
   "id": "67709d7d-5274-4fef-bdc3-0a7a875964f4",
   "metadata": {},
   "outputs": [
    {
     "name": "stdout",
     "output_type": "stream",
     "text": [
      "1 record inserted.\n"
     ]
    }
   ],
   "source": [
    "sql = '''INSERT INTO `student` (`sn no`, `std_name`, `chemistry`, `nepali`, `math`, `english`, `physics`, `total`, `per`, `grade`)\n",
    "VALUES (9, 'sanu', '70', '56', '56', '68', '67', '145', '86', 'A');'''\n",
    "db.execute(sql)\n",
    "database.commit()\n",
    "print(db.rowcount,\"record inserted.\")"
   ]
  }
 ],
 "metadata": {
  "kernelspec": {
   "display_name": "Python 3 (ipykernel)",
   "language": "python",
   "name": "python3"
  },
  "language_info": {
   "codemirror_mode": {
    "name": "ipython",
    "version": 3
   },
   "file_extension": ".py",
   "mimetype": "text/x-python",
   "name": "python",
   "nbconvert_exporter": "python",
   "pygments_lexer": "ipython3",
   "version": "3.11.7"
  }
 },
 "nbformat": 4,
 "nbformat_minor": 5
}
