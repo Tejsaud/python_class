{
 "cells": [
  {
   "cell_type": "code",
   "execution_count": null,
   "id": "76d6c17c-cd19-4108-b211-01737aa045c7",
   "metadata": {},
   "outputs": [],
   "source": [
    "# function\n",
    "# pre defined functioin\n",
    "# print() int() str() tuple() list() dict() set()\n",
    "\n"
   ]
  },
  {
   "cell_type": "code",
   "execution_count": null,
   "id": "27123426-81db-406d-8572-ea4a0388d007",
   "metadata": {},
   "outputs": [],
   "source": [
    "# user defined function \n",
    "# def <function _name>\n",
    "    # <operation>\n",
    "# <function _name>\n"
   ]
  },
  {
   "cell_type": "code",
   "execution_count": 4,
   "id": "212d1e5a-5081-4731-8622-0f3fa741f718",
   "metadata": {},
   "outputs": [],
   "source": [
    "def hello():               # function definne\n",
    "    print(\"Hello world\")\n",
    "    hello()                #function call"
   ]
  },
  {
   "cell_type": "code",
   "execution_count": 29,
   "id": "1bfb3819-a0f7-47bc-b3b3-d45dba379852",
   "metadata": {},
   "outputs": [
    {
     "ename": "IndentationError",
     "evalue": "unexpected indent (3250174276.py, line 5)",
     "output_type": "error",
     "traceback": [
      "\u001b[1;36m  Cell \u001b[1;32mIn[29], line 5\u001b[1;36m\u001b[0m\n\u001b[1;33m    print(a)\u001b[0m\n\u001b[1;37m    ^\u001b[0m\n\u001b[1;31mIndentationError\u001b[0m\u001b[1;31m:\u001b[0m unexpected indent\n"
     ]
    }
   ],
   "source": [
    "def cal()\n",
    "       l = int (input(\"Enter the length l= \"))        # local variable\n",
    "       b=  int (input(\"Enter the breadth b= \"))          #global variable\n",
    "       a = l*b\n",
    "          print(a)\n",
    "\n",
    "\n",
    "cal()    "
   ]
  },
  {
   "cell_type": "code",
   "execution_count": 22,
   "id": "ab59da48-6def-4e10-a0a5-bb2ecc00053e",
   "metadata": {},
   "outputs": [
    {
     "ename": "IndentationError",
     "evalue": "unexpected indent (2272030691.py, line 3)",
     "output_type": "error",
     "traceback": [
      "\u001b[1;36m  Cell \u001b[1;32mIn[22], line 3\u001b[1;36m\u001b[0m\n\u001b[1;33m    def cal():\u001b[0m\n\u001b[1;37m    ^\u001b[0m\n\u001b[1;31mIndentationError\u001b[0m\u001b[1;31m:\u001b[0m unexpected indent\n"
     ]
    }
   ],
   "source": [
    "l = int (input(\"Enter the l=\"))   # local variable\n",
    "b=  int(input(\"Enter the b-=\"))   #global variable\n",
    "     def cal():   \n",
    "     a=l*b\n",
    "     print(a)\n",
    "\n",
    "\n",
    "cal()    "
   ]
  },
  {
   "cell_type": "code",
   "execution_count": 31,
   "id": "56cc5994-02c2-45e0-9652-45c7d0ab2145",
   "metadata": {},
   "outputs": [
    {
     "ename": "SyntaxError",
     "evalue": "expected ':' (3074777825.py, line 1)",
     "output_type": "error",
     "traceback": [
      "\u001b[1;36m  Cell \u001b[1;32mIn[31], line 1\u001b[1;36m\u001b[0m\n\u001b[1;33m    def cal(a,b,o)\u001b[0m\n\u001b[1;37m                  ^\u001b[0m\n\u001b[1;31mSyntaxError\u001b[0m\u001b[1;31m:\u001b[0m expected ':'\n"
     ]
    }
   ],
   "source": [
    "def cal(a,b,o)\n",
    "    if o == \"+\":\n",
    "         print(a+b)\n",
    "    elif o==\"-\":\n",
    "         print(a-b)\n",
    "    elif o==\"*\":\n",
    "         print(a*b)\n",
    "    elifo==\"/ \":\n",
    "         print(a/b)\n",
    "    if b =!=0:\n",
    "         print(a/b)\n",
    "    else:\n",
    "        print(\"the value of b cannot be zero!\")\n",
    "    else:\n",
    "        print(\"invalid operator\")\n",
    "\n",
    "a= int(input(\"\n",
    "    \n"
   ]
  },
  {
   "cell_type": "code",
   "execution_count": 37,
   "id": "1a54a7a5-6b9a-41b2-a859-55dc9551532b",
   "metadata": {},
   "outputs": [
    {
     "name": "stdin",
     "output_type": "stream",
     "text": [
      "Enter the l = 4\n",
      "Enter the b =  6\n"
     ]
    },
    {
     "ename": "TypeError",
     "evalue": "cal() takes 0 positional arguments but 1 was given",
     "output_type": "error",
     "traceback": [
      "\u001b[1;31m---------------------------------------------------------------------------\u001b[0m",
      "\u001b[1;31mTypeError\u001b[0m                                 Traceback (most recent call last)",
      "Cell \u001b[1;32mIn[37], line 6\u001b[0m\n\u001b[0;32m      4\u001b[0m l \u001b[38;5;241m=\u001b[39m \u001b[38;5;28mint\u001b[39m (\u001b[38;5;28minput\u001b[39m(\u001b[38;5;124m\"\u001b[39m\u001b[38;5;124mEnter the l =\u001b[39m\u001b[38;5;124m\"\u001b[39m))\n\u001b[0;32m      5\u001b[0m b\u001b[38;5;241m=\u001b[39m \u001b[38;5;28mint\u001b[39m (\u001b[38;5;28minput\u001b[39m(\u001b[38;5;124m\"\u001b[39m\u001b[38;5;124mEnter the b = \u001b[39m\u001b[38;5;124m\"\u001b[39m))\n\u001b[1;32m----> 6\u001b[0m area \u001b[38;5;241m=\u001b[39m cal(l\u001b[38;5;241m*\u001b[39mb)\n\u001b[0;32m      7\u001b[0m \u001b[38;5;28mprint\u001b[39m(area)\n",
      "\u001b[1;31mTypeError\u001b[0m: cal() takes 0 positional arguments but 1 was given"
     ]
    }
   ],
   "source": [
    "def cal():\n",
    "    a = l*b\n",
    "    return a\n",
    "l = int(input(\"Enter the l =\"))\n",
    "b= int(input(\"Enter the b = \"))\n",
    "area = cal(l*b)\n",
    "print(area)"
   ]
  }
 ],
 "metadata": {
  "kernelspec": {
   "display_name": "Python 3 (ipykernel)",
   "language": "python",
   "name": "python3"
  },
  "language_info": {
   "codemirror_mode": {
    "name": "ipython",
    "version": 3
   },
   "file_extension": ".py",
   "mimetype": "text/x-python",
   "name": "python",
   "nbconvert_exporter": "python",
   "pygments_lexer": "ipython3",
   "version": "3.11.7"
  }
 },
 "nbformat": 4,
 "nbformat_minor": 5
}
