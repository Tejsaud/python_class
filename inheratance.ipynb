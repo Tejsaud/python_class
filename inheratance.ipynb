{
 "cells": [
  {
   "cell_type": "code",
   "execution_count": null,
   "id": "0c5e60de-c85b-4459-b801-04421c9334dc",
   "metadata": {},
   "outputs": [],
   "source": [
    "class <class_name>:\n",
    "    <method>\n",
    "class <class_name2>(<class_name1>)\n",
    "    <method>\n",
    "obj = <class_name2>()\n",
    "class A:\n",
    "    pass\n",
    "class B(A):\n",
    "    pass\n",
    "obj = B()"
   ]
  },
  {
   "cell_type": "code",
   "execution_count": 2,
   "id": "11be9694-ccef-4db6-aa00-8f76eddfbe5a",
   "metadata": {},
   "outputs": [
    {
     "name": "stdout",
     "output_type": "stream",
     "text": [
      "Hello World I am Tej. I am from ktm. I am 67\n",
      "Tej 67 ktm\n"
     ]
    }
   ],
   "source": [
    "# example of inheratence.\n",
    "class Data:\n",
    "    def __init__(self):\n",
    "        self.name = \"Tej\"\n",
    "        self.age = 67\n",
    "        self.add = \"ktm\"\n",
    "    def data(self):\n",
    "        print(self.name,self.age,self.add)\n",
    "class Info(Data):\n",
    "    def info(self):\n",
    "        print(f\"Hello World I am {self.name}. I am from {self.add}. I am {self.age}\")\n",
    "obj = Info()\n",
    "obj.info()\n",
    "obj.data()"
   ]
  },
  {
   "cell_type": "code",
   "execution_count": 10,
   "id": "f5ed8f80-aed0-441e-b401-b97d3bf29ff6",
   "metadata": {},
   "outputs": [
    {
     "name": "stdin",
     "output_type": "stream",
     "text": [
      "Enter name = tej\n",
      "Enter age = 30\n",
      "Enter add = ktm\n"
     ]
    },
    {
     "name": "stdout",
     "output_type": "stream",
     "text": [
      "Hello World I am tej. I am from ktm. I am 30\n",
      "tej 30 ktm\n"
     ]
    }
   ],
   "source": [
    "# example of inheratence.\n",
    "class Data:\n",
    "    def __init__(self,name,age,add):\n",
    "        self.name = name\n",
    "        self.age = age\n",
    "        self.add = add\n",
    "    def data(self):\n",
    "        print(self.name,self.age,self.add)\n",
    "class Info(Data):\n",
    "    def info(self):\n",
    "        print(f\"Hello World I am {self.name}. I am from {self.add}. I am {self.age}\")\n",
    "\n",
    "name = input(\"Enter name =\")\n",
    "age = int(input(\"Enter age =\"))\n",
    "add = input(\"Enter add =\")\n",
    "obj = Info(name,age,add)\n",
    "obj.info()\n",
    "obj.data()\n"
   ]
  },
  {
   "cell_type": "code",
   "execution_count": null,
   "id": "e4fc5dc2-f909-4367-bd3a-31566c19f9ce",
   "metadata": {},
   "outputs": [],
   "source": [
    "# multilevel inheritance\n",
    "class A:\n",
    " pass\n",
    "classB(A):\n",
    "    pass\n",
    "classC(B):\n",
    "  pass\n",
    "obj = C()\n"
   ]
  },
  {
   "cell_type": "code",
   "execution_count": null,
   "id": "789840b3-96ef-4060-a735-9f7fe91039d7",
   "metadata": {},
   "outputs": [],
   "source": [
    "# multilevel inheritance\n",
    "class A:\n",
    "    pass\n",
    "class B(A):\n",
    "    pass\n",
    "class C(A,B):\n",
    "    pass\n",
    "obj = C()\n",
    "    "
   ]
  },
  {
   "cell_type": "code",
   "execution_count": 16,
   "id": "6e977fae-3b0f-4afa-ad94-8a8125cc9689",
   "metadata": {},
   "outputs": [
    {
     "name": "stdin",
     "output_type": "stream",
     "text": [
      "Enter name = tej\n",
      "Enter age = 15\n",
      "Enter add = dhn\n"
     ]
    },
    {
     "name": "stdout",
     "output_type": "stream",
     "text": [
      "Hello World I am tej. I am from dhn. I am 15\n",
      "dhn\n",
      "15\n"
     ]
    }
   ],
   "source": [
    "# example of inheratence.(multilavel)\n",
    "class Age:\n",
    "    def __init__(self,age):\n",
    "        self.age = age\n",
    "    def my_age(self):\n",
    "        print(self.age)\n",
    "class Data(Age):\n",
    "    def __init__(self,age,add):\n",
    "        self.add = add\n",
    "        Age.__init__(self,age)\n",
    "    def data(self):\n",
    "        print(self.add)\n",
    "class Info(Data):\n",
    "    def __init__(self,name,age,add):\n",
    "        self.name = name\n",
    "        Data.__init__(self,age,add)\n",
    "    def info(self):\n",
    "        print(f\"Hello World I am {self.name}. I am from {self.add}. I am {self.age}\")\n",
    "\n",
    "name = input(\"Enter name =\")\n",
    "age = int(input(\"Enter age =\"))\n",
    "add = input(\"Enter add =\")\n",
    "\n",
    "obj = Info(name,age,add)\n",
    "obj.info()\n",
    "obj.data()\n",
    "obj.my_age()\n"
   ]
  },
  {
   "cell_type": "code",
   "execution_count": 21,
   "id": "4a7ec8f9-b7e6-404c-a41b-11c04089cc5a",
   "metadata": {},
   "outputs": [
    {
     "name": "stdin",
     "output_type": "stream",
     "text": [
      "Enter name = ghj\n",
      "Enter age = 45\n",
      "Enter add = gfh\n"
     ]
    },
    {
     "name": "stdout",
     "output_type": "stream",
     "text": [
      "Hello World I am ghj. I am from gfh. I am 45\n",
      "gfh\n"
     ]
    }
   ],
   "source": [
    "# example of inheratence.(multipal)\n",
    "class Age:\n",
    "    def __init__(self,age):\n",
    "        self.age = age\n",
    "    def my_age(self):\n",
    "        print(self.age)\n",
    "class Data:\n",
    "    def __init__(self,add):\n",
    "        self.add = add\n",
    "    def data(self):\n",
    "        print(self.add)\n",
    "        \n",
    "class Info(Age,Data):\n",
    "    def __init__(self,name,age,add):\n",
    "        self.name = name\n",
    "        Data.__init__(self,add)\n",
    "        Age.__init__(self,age)\n",
    "        \n",
    "    def info(self):\n",
    "        print(f\"Hello World I am {self.name}. I am from {self.add}. I am {self.age}\")\n",
    "\n",
    "name = input(\"Enter name =\")\n",
    "age = int(input(\"Enter age =\"))\n",
    "add = input(\"Enter add =\")\n",
    "obj = Info(name,age,add)\n",
    "obj.info()\n",
    "obj.data()\n"
   ]
  },
  {
   "cell_type": "code",
   "execution_count": null,
   "id": "a2bd142c-f024-46ce-9174-c1e55e74e907",
   "metadata": {},
   "outputs": [],
   "source": []
  }
 ],
 "metadata": {
  "kernelspec": {
   "display_name": "Python 3 (ipykernel)",
   "language": "python",
   "name": "python3"
  },
  "language_info": {
   "codemirror_mode": {
    "name": "ipython",
    "version": 3
   },
   "file_extension": ".py",
   "mimetype": "text/x-python",
   "name": "python",
   "nbconvert_exporter": "python",
   "pygments_lexer": "ipython3",
   "version": "3.11.7"
  }
 },
 "nbformat": 4,
 "nbformat_minor": 5
}
