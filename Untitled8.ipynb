{
 "cells": [
  {
   "cell_type": "code",
   "execution_count": 4,
   "id": "0701306d-9f3c-44f6-a097-57d6b357c242",
   "metadata": {},
   "outputs": [
    {
     "name": "stdout",
     "output_type": "stream",
     "text": [
      "my name is suman\n",
      "hlo\n",
      "\n"
     ]
    }
   ],
   "source": [
    "f = open(\"demo.txt\",\"r\")\n",
    "data =f.read()\n",
    "print(data)\n",
    "f.close()"
   ]
  },
  {
   "cell_type": "code",
   "execution_count": 6,
   "id": "176281c5-0547-4d8f-bf73-05cecbaf837e",
   "metadata": {},
   "outputs": [
    {
     "name": "stdout",
     "output_type": "stream",
     "text": [
      "3\n"
     ]
    }
   ],
   "source": [
    "f = open(\"demo.txt\",\"w\")\n",
    "data =f.write(\"hlo\")\n",
    "print(data)\n",
    "f.close()"
   ]
  }
 ],
 "metadata": {
  "kernelspec": {
   "display_name": "Python 3 (ipykernel)",
   "language": "python",
   "name": "python3"
  },
  "language_info": {
   "codemirror_mode": {
    "name": "ipython",
    "version": 3
   },
   "file_extension": ".py",
   "mimetype": "text/x-python",
   "name": "python",
   "nbconvert_exporter": "python",
   "pygments_lexer": "ipython3",
   "version": "3.11.7"
  }
 },
 "nbformat": 4,
 "nbformat_minor": 5
}
