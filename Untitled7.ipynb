{
 "cells": [
  {
   "cell_type": "code",
   "execution_count": 2,
   "id": "3449beff-3d29-4d5c-a8bc-fc6dcdb94066",
   "metadata": {},
   "outputs": [
    {
     "name": "stdout",
     "output_type": "stream",
     "text": [
      "1 hlo my name is suman\n",
      "2 my permananent address is ktm\n",
      "\n",
      " \"cells\": [\n",
      "  {\n",
      "   \"cell_type\": \"code\",\n",
      "   \"execution_count\": 7,\n",
      "   \"id\": \"885ec11b-4e73-414c-b3d9-5e1b15cd08b8\",\n",
      "   \"metadata\": {},\n",
      "   \"outputs\": [\n",
      "    {\n",
      "     \"name\": \"stdout\",\n",
      "     \"output_type\": \"stream\",\n",
      "     \"text\": [\n",
      "      \"{\\n\",\n",
      "      \" \\\"cells\\\": [\\n\",\n",
      "      \"  {\\n\",\n",
      "      \"   \\\"cell_type\\\": \\\"code\\\",\\n\",\n",
      "      \"   \\\"execution_count\\\": 5,\\n\",\n",
      "      \"   \\\"id\\\": \\\"885ec11b-4e73-414c-b3d9-5e1b15cd08b8\\\",\\n\",\n",
      "      \"   \\\"metadata\\\": {},\\n\",\n",
      "      \"   \\\"outputs\\\": [\\n\",\n",
      "      \"    {\\n\",\n",
      "      \"     \\\"ename\\\": \\\"FileNotFoundError\\\",\\n\",\n",
      "      \"     \\\"evalue\\\": \\\"[Errno 2] No such file or directory: 'demo.txt'\\\",\\n\",\n",
      "      \"     \\\"output_type\\\": \\\"error\\\",\\n\",\n",
      "      \"     \\\"traceback\\\": [\\n\",\n",
      "      \"      \\\"\\\\u001b[1;31m---------------------------------------------------------------------------\\\\u001b[0m\\\",\\n\",\n",
      "      \"      \\\"\\\\u001b[1;31mFileNotFoundError\\\\u001b[0m                         Traceback (most recent call last)\\\",\\n\",\n",
      "      \"      \\\"Cell \\\\u001b[1;32mIn[5], line 1\\\\u001b[0m\\\\n\\\\u001b[1;32m----> 1\\\\u001b[0m f \\\\u001b[38;5;241m=\\\\u001b[39m\\\\u001b[38;5;28mopen\\\\u001b[39m(\\\\u001b[38;5;124m\\\\\\\"\\\\u001b[39m\\\\u001b[38;5;124mdemo.txt\\\\u001b[39m\\\\u001b[38;5;124m\\\\\\\"\\\\u001b[39m,\\\\u001b[38;5;124m\\\\\\\"\\\\u001b[39m\\\\u001b[38;5;124mr\\\\u001b[39m\\\\u001b[38;5;124m\\\\\\\"\\\\u001b[39m)\\\\n\\\\u001b[0;32m      2\\\\u001b[0m data \\\\u001b[38;5;241m=\\\\u001b[39m f\\\\u001b[38;5;241m.\\\\u001b[39mread()\\\\n\\\\u001b[0;32m      3\\\\u001b[0m \\\\u001b[38;5;28mprint\\\\u001b[39m(data)\\\\n\\\",\\n\",\n",
      "      \"      \\\"File \\\\u001b[1;32m~\\\\\\\\anaconda3\\\\\\\\Lib\\\\\\\\site-packages\\\\\\\\IPython\\\\\\\\core\\\\\\\\interactiveshell.py:310\\\\u001b[0m, in \\\\u001b[0;36m_modified_open\\\\u001b[1;34m(file, *args, **kwargs)\\\\u001b[0m\\\\n\\\\u001b[0;32m    303\\\\u001b[0m \\\\u001b[38;5;28;01mif\\\\u001b[39;00m file \\\\u001b[38;5;129;01min\\\\u001b[39;00m {\\\\u001b[38;5;241m0\\\\u001b[39m, \\\\u001b[38;5;241m1\\\\u001b[39m, \\\\u001b[38;5;241m2\\\\u001b[39m}:\\\\n\\\\u001b[0;32m    304\\\\u001b[0m     \\\\u001b[38;5;28;01mraise\\\\u001b[39;00m \\\\u001b[38;5;167;01mValueError\\\\u001b[39;00m(\\\\n\\\\u001b[0;32m    305\\\\u001b[0m         \\\\u001b[38;5;124mf\\\\u001b[39m\\\\u001b[38;5;124m\\\\\\\"\\\\u001b[39m\\\\u001b[38;5;124mIPython won\\\\u001b[39m\\\\u001b[38;5;124m'\\\\u001b[39m\\\\u001b[38;5;124mt let you open fd=\\\\u001b[39m\\\\u001b[38;5;132;01m{\\\\u001b[39;00mfile\\\\u001b[38;5;132;01m}\\\\u001b[39;00m\\\\u001b[38;5;124m by default \\\\u001b[39m\\\\u001b[38;5;124m\\\\\\\"\\\\u001b[39m\\\\n\\\\u001b[0;32m    306\\\\u001b[0m         \\\\u001b[38;5;124m\\\\\\\"\\\\u001b[39m\\\\u001b[38;5;124mas it is likely to crash IPython. If you know what you are doing, \\\\u001b[39m\\\\u001b[38;5;124m\\\\\\\"\\\\u001b[39m\\\\n\\\\u001b[0;32m    307\\\\u001b[0m         \\\\u001b[38;5;124m\\\\\\\"\\\\u001b[39m\\\\u001b[38;5;124myou can use builtins\\\\u001b[39m\\\\u001b[38;5;124m'\\\\u001b[39m\\\\u001b[38;5;124m open.\\\\u001b[39m\\\\u001b[38;5;124m\\\\\\\"\\\\u001b[39m\\\\n\\\\u001b[0;32m    308\\\\u001b[0m     )\\\\n\\\\u001b[1;32m--> 310\\\\u001b[0m \\\\u001b[38;5;28;01mreturn\\\\u001b[39;00m io_open(file, \\\\u001b[38;5;241m*\\\\u001b[39margs, \\\\u001b[38;5;241m*\\\\u001b[39m\\\\u001b[38;5;241m*\\\\u001b[39mkwargs)\\\\n\\\",\\n\",\n",
      "      \"      \\\"\\\\u001b[1;31mFileNotFoundError\\\\u001b[0m: [Errno 2] No such file or directory: 'demo.txt'\\\"\\n\",\n",
      "      \"     ]\\n\",\n",
      "      \"    }\\n\",\n",
      "      \"   ],\\n\",\n",
      "      \"   \\\"source\\\": [\\n\",\n",
      "      \"    \\\"f =open(\\\\\\\"demo.txt\\\\\\\",\\\\\\\"r\\\\\\\")\\\\n\\\",\\n\",\n",
      "      \"    \\\"data = f.read()\\\\n\\\",\\n\",\n",
      "      \"    \\\"print(data)\\\\n\\\",\\n\",\n",
      "      \"    \\\"print(type(data))\\\\n\\\",\\n\",\n",
      "      \"    \\\"file.close()\\\"\\n\",\n",
      "      \"   ]\\n\",\n",
      "      \"  },\\n\",\n",
      "      \"  {\\n\",\n",
      "      \"   \\\"cell_type\\\": \\\"code\\\",\\n\",\n",
      "      \"   \\\"execution_count\\\": null,\\n\",\n",
      "      \"   \\\"id\\\": \\\"1e17432f-aabe-491a-9691-b15146f7de6f\\\",\\n\",\n",
      "      \"   \\\"metadata\\\": {},\\n\",\n",
      "      \"   \\\"outputs\\\": [],\\n\",\n",
      "      \"   \\\"source\\\": []\\n\",\n",
      "      \"  }\\n\",\n",
      "      \" ],\\n\",\n",
      "      \" \\\"metadata\\\": {\\n\",\n",
      "      \"  \\\"kernelspec\\\": {\\n\",\n",
      "      \"   \\\"display_name\\\": \\\"Python 3 (ipykernel)\\\",\\n\",\n",
      "      \"   \\\"language\\\": \\\"python\\\",\\n\",\n",
      "      \"   \\\"name\\\": \\\"python3\\\"\\n\",\n",
      "      \"  },\\n\",\n",
      "      \"  \\\"language_info\\\": {\\n\",\n",
      "      \"   \\\"codemirror_mode\\\": {\\n\",\n",
      "      \"    \\\"name\\\": \\\"ipython\\\",\\n\",\n",
      "      \"    \\\"version\\\": 3\\n\",\n",
      "      \"   },\\n\",\n",
      "      \"   \\\"file_extension\\\": \\\".py\\\",\\n\",\n",
      "      \"   \\\"mimetype\\\": \\\"text/x-python\\\",\\n\",\n",
      "      \"   \\\"name\\\": \\\"python\\\",\\n\",\n",
      "      \"   \\\"nbconvert_exporter\\\": \\\"python\\\",\\n\",\n",
      "      \"   \\\"pygments_lexer\\\": \\\"ipython3\\\",\\n\",\n",
      "      \"   \\\"version\\\": \\\"3.11.7\\\"\\n\",\n",
      "      \"  }\\n\",\n",
      "      \" },\\n\",\n",
      "      \" \\\"nbformat\\\": 4,\\n\",\n",
      "      \" \\\"nbformat_minor\\\": 5\\n\",\n",
      "      \"}\\n\",\n",
      "      \"\\n\",\n",
      "      \"<class 'str'>\\n\"\n",
      "     ]\n",
      "    },\n",
      "    {\n",
      "     \"ename\": \"NameError\",\n",
      "     \"evalue\": \"name 'file' is not defined\",\n",
      "     \"output_type\": \"error\",\n",
      "     \"traceback\": [\n",
      "      \"\\u001b[1;31m---------------------------------------------------------------------------\\u001b[0m\",\n",
      "      \"\\u001b[1;31mNameError\\u001b[0m                                 Traceback (most recent call last)\",\n",
      "      \"Cell \\u001b[1;32mIn[7], line 5\\u001b[0m\\n\\u001b[0;32m      3\\u001b[0m \\u001b[38;5;28mprint\\u001b[39m(data)\\n\\u001b[0;32m      4\\u001b[0m \\u001b[38;5;28mprint\\u001b[39m(\\u001b[38;5;28mtype\\u001b[39m(data))\\n\\u001b[1;32m----> 5\\u001b[0m file\\u001b[38;5;241m.\\u001b[39mclose()\\n\",\n",
      "      \"\\u001b[1;31mNameError\\u001b[0m: name 'file' is not defined\"\n",
      "     ]\n",
      "    }\n",
      "   ],\n",
      "   \"source\": [\n",
      "    \"f =open(\\\"demo.txt\\\",\\\"r\\\")\\n\",\n",
      "    \"data = f.read()\\n\",\n",
      "    \"print(data)\\n\",\n",
      "    \"print(type(data))\\n\",\n",
      "    \"file.close()\"\n",
      "   ]\n",
      "  },\n",
      "  {\n",
      "   \"cell_type\": \"code\",\n",
      "   \"execution_count\": null,\n",
      "   \"id\": \"1e17432f-aabe-491a-9691-b15146f7de6f\",\n",
      "   \"metadata\": {},\n",
      "   \"outputs\": [],\n",
      "   \"source\": []\n",
      "  }\n",
      " ],\n",
      " \"metadata\": {\n",
      "  \"kernelspec\": {\n",
      "   \"display_name\": \"Python 3 (ipykernel)\",\n",
      "   \"language\": \"python\",\n",
      "   \"name\": \"python3\"\n",
      "  },\n",
      "  \"language_info\": {\n",
      "   \"codemirror_mode\": {\n",
      "    \"name\": \"ipython\",\n",
      "    \"version\": 3\n",
      "   },\n",
      "   \"file_extension\": \".py\",\n",
      "   \"mimetype\": \"text/x-python\",\n",
      "   \"name\": \"python\",\n",
      "   \"nbconvert_exporter\": \"python\",\n",
      "   \"pygments_lexer\": \"ipython3\",\n",
      "   \"version\": \"3.11.7\"\n",
      "  }\n",
      " },\n",
      " \"nbformat\": 4,\n",
      " \"nbformat_minor\": 5\n",
      "}\n",
      "\n",
      "<class 'str'>\n"
     ]
    }
   ],
   "source": [
    "f = open(\"new.txt\",\"r\")\n",
    "data = f.read()\n",
    "print(data)\n",
    "print(type(data))\n",
    "f.close()"
   ]
  },
  {
   "cell_type": "code",
   "execution_count": 27,
   "id": "22e77900-618a-480c-ba7f-bb39233035c6",
   "metadata": {},
   "outputs": [
    {
     "ename": "ValueError",
     "evalue": "invalid mode: 'read'",
     "output_type": "error",
     "traceback": [
      "\u001b[1;31m---------------------------------------------------------------------------\u001b[0m",
      "\u001b[1;31mValueError\u001b[0m                                Traceback (most recent call last)",
      "Cell \u001b[1;32mIn[27], line 1\u001b[0m\n\u001b[1;32m----> 1\u001b[0m f \u001b[38;5;241m=\u001b[39m \u001b[38;5;28mopen\u001b[39m(\u001b[38;5;124m\"\u001b[39m\u001b[38;5;124mdemo.txt\u001b[39m\u001b[38;5;124m\"\u001b[39m,\u001b[38;5;124m\"\u001b[39m\u001b[38;5;124mread\u001b[39m\u001b[38;5;124m\"\u001b[39m)\n\u001b[0;32m      2\u001b[0m f\u001b[38;5;241m.\u001b[39mread()\n\u001b[0;32m      3\u001b[0m f\u001b[38;5;241m.\u001b[39mclose()\n",
      "File \u001b[1;32m~\\anaconda3\\Lib\\site-packages\\IPython\\core\\interactiveshell.py:310\u001b[0m, in \u001b[0;36m_modified_open\u001b[1;34m(file, *args, **kwargs)\u001b[0m\n\u001b[0;32m    303\u001b[0m \u001b[38;5;28;01mif\u001b[39;00m file \u001b[38;5;129;01min\u001b[39;00m {\u001b[38;5;241m0\u001b[39m, \u001b[38;5;241m1\u001b[39m, \u001b[38;5;241m2\u001b[39m}:\n\u001b[0;32m    304\u001b[0m     \u001b[38;5;28;01mraise\u001b[39;00m \u001b[38;5;167;01mValueError\u001b[39;00m(\n\u001b[0;32m    305\u001b[0m         \u001b[38;5;124mf\u001b[39m\u001b[38;5;124m\"\u001b[39m\u001b[38;5;124mIPython won\u001b[39m\u001b[38;5;124m'\u001b[39m\u001b[38;5;124mt let you open fd=\u001b[39m\u001b[38;5;132;01m{\u001b[39;00mfile\u001b[38;5;132;01m}\u001b[39;00m\u001b[38;5;124m by default \u001b[39m\u001b[38;5;124m\"\u001b[39m\n\u001b[0;32m    306\u001b[0m         \u001b[38;5;124m\"\u001b[39m\u001b[38;5;124mas it is likely to crash IPython. If you know what you are doing, \u001b[39m\u001b[38;5;124m\"\u001b[39m\n\u001b[0;32m    307\u001b[0m         \u001b[38;5;124m\"\u001b[39m\u001b[38;5;124myou can use builtins\u001b[39m\u001b[38;5;124m'\u001b[39m\u001b[38;5;124m open.\u001b[39m\u001b[38;5;124m\"\u001b[39m\n\u001b[0;32m    308\u001b[0m     )\n\u001b[1;32m--> 310\u001b[0m \u001b[38;5;28;01mreturn\u001b[39;00m io_open(file, \u001b[38;5;241m*\u001b[39margs, \u001b[38;5;241m*\u001b[39m\u001b[38;5;241m*\u001b[39mkwargs)\n",
      "\u001b[1;31mValueError\u001b[0m: invalid mode: 'read'"
     ]
    }
   ],
   "source": [
    "f = open(\"demo.txt\",\"read\")\n",
    "f.read()\n",
    "f.close()"
   ]
  },
  {
   "cell_type": "code",
   "execution_count": 21,
   "id": "70d8f517-5655-43a7-8113-bf46b7b624c3",
   "metadata": {},
   "outputs": [
    {
     "name": "stdout",
     "output_type": "stream",
     "text": [
      "28\n"
     ]
    }
   ],
   "source": [
    "f = open('new.txt','w')\n",
    "data=f.write( 'my permanent address is ktm ')\n",
    "print(data)\n",
    "f.close()"
   ]
  },
  {
   "cell_type": "code",
   "execution_count": 19,
   "id": "30e28513-5d6a-4f71-bff5-cbb997fe6db0",
   "metadata": {},
   "outputs": [
    {
     "name": "stdout",
     "output_type": "stream",
     "text": [
      "\n"
     ]
    }
   ],
   "source": [
    "f=open('new.txt')\n",
    "data= f.read( )\n",
    "print(data)"
   ]
  }
 ],
 "metadata": {
  "kernelspec": {
   "display_name": "Python 3 (ipykernel)",
   "language": "python",
   "name": "python3"
  },
  "language_info": {
   "codemirror_mode": {
    "name": "ipython",
    "version": 3
   },
   "file_extension": ".py",
   "mimetype": "text/x-python",
   "name": "python",
   "nbconvert_exporter": "python",
   "pygments_lexer": "ipython3",
   "version": "3.11.7"
  }
 },
 "nbformat": 4,
 "nbformat_minor": 5
}
