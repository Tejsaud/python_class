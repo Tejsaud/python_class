{
 "cells": [
  {
   "cell_type": "code",
   "execution_count": 3,
   "id": "aecf262e-2228-464c-a314-4654e7612f80",
   "metadata": {},
   "outputs": [
    {
     "name": "stdout",
     "output_type": "stream",
     "text": [
      "<class 'tuple'>\n"
     ]
    }
   ],
   "source": [
    "# tuple\n",
    "# ordered type ()\n",
    "l=( 1,2 ,3,4,5)\n",
    "print (type(l))"
   ]
  },
  {
   "cell_type": "code",
   "execution_count": 5,
   "id": "51411a18-1209-4284-ac14-7fab2c20811d",
   "metadata": {},
   "outputs": [
    {
     "name": "stdout",
     "output_type": "stream",
     "text": [
      "0\n",
      "1\n",
      "1\n",
      "2\n",
      "2\n",
      "3\n",
      "3\n",
      "4\n",
      "4\n",
      "5\n",
      "5\n",
      "6\n",
      "6\n",
      "7\n"
     ]
    }
   ],
   "source": [
    "t=(1,2,3,4,5,6,7)\n",
    "l=len(t)\n",
    "for a  in range(l):\n",
    "     print(a)\n",
    "     print(t[a])\n",
    "     "
   ]
  },
  {
   "cell_type": "code",
   "execution_count": 21,
   "id": "2ca6d42a-e136-425d-be53-4e1a71c30534",
   "metadata": {},
   "outputs": [
    {
     "name": "stdout",
     "output_type": "stream",
     "text": [
      "1\n",
      "2\n",
      "3\n",
      "4\n",
      "5\n"
     ]
    }
   ],
   "source": [
    "t=(1,2,3,4,5)\n",
    "l=len(t)\n",
    "for a in t:\n",
    "     print(a)"
   ]
  },
  {
   "cell_type": "code",
   "execution_count": 28,
   "id": "36e46e56-b710-4824-a474-f632627ee659",
   "metadata": {},
   "outputs": [
    {
     "name": "stdout",
     "output_type": "stream",
     "text": [
      "(1, 4, 79, 49, 40, 60)\n",
      "1\n",
      "79\n"
     ]
    }
   ],
   "source": [
    "t=(1,4,79,49,40,60)\n",
    "print(t)\n",
    "m=min(t)\n",
    "print(m)\n",
    "m=max(t)\n",
    "print(m)\n"
   ]
  },
  {
   "cell_type": "code",
   "execution_count": 29,
   "id": "9aa8c07e-d28a-432e-b845-05d844f17ed9",
   "metadata": {},
   "outputs": [
    {
     "name": "stdout",
     "output_type": "stream",
     "text": [
      "3\n"
     ]
    }
   ],
   "source": [
    "# count()\n",
    "t=(1,4,79,49,40,60,60,60)\n",
    "c=t.count(60)\n",
    "print(c)\n"
   ]
  },
  {
   "cell_type": "code",
   "execution_count": 1,
   "id": "eb1d6898-13e4-4d45-96f7-ee1320c4e3d5",
   "metadata": {},
   "outputs": [
    {
     "name": "stdout",
     "output_type": "stream",
     "text": [
      "5\n"
     ]
    }
   ],
   "source": [
    "# index()\n",
    "t=(1,4,79,49,40,60)\n",
    "i=t.index(60)\n",
    "print(i)"
   ]
  },
  {
   "cell_type": "code",
   "execution_count": 2,
   "id": "861c4935-6be3-45d9-8677-682ea3fe0288",
   "metadata": {},
   "outputs": [
    {
     "name": "stdout",
     "output_type": "stream",
     "text": [
      "233\n"
     ]
    }
   ],
   "source": [
    "# sum()\n",
    "t=(1,4,79,49,40,60)\n",
    "s=sum(t)\n",
    "print(s)"
   ]
  }
 ],
 "metadata": {
  "kernelspec": {
   "display_name": "Python 3 (ipykernel)",
   "language": "python",
   "name": "python3"
  },
  "language_info": {
   "codemirror_mode": {
    "name": "ipython",
    "version": 3
   },
   "file_extension": ".py",
   "mimetype": "text/x-python",
   "name": "python",
   "nbconvert_exporter": "python",
   "pygments_lexer": "ipython3",
   "version": "3.11.7"
  }
 },
 "nbformat": 4,
 "nbformat_minor": 5
}
