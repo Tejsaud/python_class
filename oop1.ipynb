{
 "cells": [
  {
   "cell_type": "code",
   "execution_count": null,
   "id": "07d50113-74b1-4dbb-b956-ee6b2754c09a",
   "metadata": {},
   "outputs": [],
   "source": [
    "# OOP IN PYTHON \n",
    "# DEFINATION= TO MAP WITH REAL WORLD SCENNARIOES , WE STARTED USING OBJECT IN CODE .THIS IS CALLED OOP."
   ]
  },
  {
   "cell_type": "code",
   "execution_count": 1,
   "id": "f421804e-e0d3-409b-99a3-91b14b8045cc",
   "metadata": {},
   "outputs": [
    {
     "name": "stdout",
     "output_type": "stream",
     "text": [
      "tej saud\n"
     ]
    }
   ],
   "source": [
    "# CLASS  AND OBJECT IN PYTHON .\n",
    "# CLASS = CLASS IS A BLUEPRINT FOR CREATING OBJECT\n",
    "# CREATING A CLASS \n",
    "class Student:\n",
    "    name = \"tej saud\"\n",
    "# CREATING A OBJECT(INSTANCE)\n",
    "s1 = Student()\n",
    "print(s1.name)"
   ]
  },
  {
   "cell_type": "code",
   "execution_count": null,
   "id": "758580ab-071c-45d7-a758-2c41951de6dc",
   "metadata": {},
   "outputs": [],
   "source": [
    "# INIT FUNCTION\n",
    "# CONSTRUCTOR\n",
    "# ALL CLASS HAVE A FUNCTION CALLED _INIT_(),WHICH IA ALWAYS EXECUTED WHE THE CLASS IS BEING INITIED.\n"
   ]
  },
  {
   "cell_type": "code",
   "execution_count": 8,
   "id": "d1f0f5b9-fe01-4482-a64b-46f2dd14fadb",
   "metadata": {},
   "outputs": [
    {
     "name": "stdout",
     "output_type": "stream",
     "text": [
      "adding new student in database\n"
     ]
    }
   ],
   "source": [
    "class Student:\n",
    "    name = \"tej saud\"\n",
    "    def __init__(self):\n",
    "        print(\"adding new student in database\")\n",
    "    s1 = Student()\n",
    "    "
   ]
  },
  {
   "cell_type": "code",
   "execution_count": 18,
   "id": "56947a5e-a7f9-49c4-9100-e927afbc9999",
   "metadata": {},
   "outputs": [
    {
     "name": "stdout",
     "output_type": "stream",
     "text": [
      "meow\n",
      "meow\n",
      "ravi\n",
      "20\n",
      "sikha\n",
      "30\n"
     ]
    }
   ],
   "source": [
    " # eample\n",
    "class cat:\n",
    "    def __init__(self,name,age):\n",
    "        self.name = name\n",
    "        self.age = age\n",
    "    def get_age(self):\n",
    "        return self.age\n",
    "    def get_name(self):\n",
    "       return self.name\n",
    "    def speak(self):\n",
    "        print('meow')\n",
    "cat1 = cat('ravi',20)\n",
    "cat2 = cat('sikha',30)\n",
    "cat1.speak()\n",
    "cat2.speak()\n",
    "print(cat1.get_name())\n",
    "print(cat1.get_age())\n",
    "print(cat2.get_name())\n",
    "print(cat2.get_age())\n"
   ]
  },
  {
   "cell_type": "code",
   "execution_count": 27,
   "id": "1e2e8ef8-cb5e-4705-8d4d-9a9aa9d14b6e",
   "metadata": {},
   "outputs": [
    {
     "ename": "SyntaxError",
     "evalue": "unmatched ')' (2633511712.py, line 15)",
     "output_type": "error",
     "traceback": [
      "\u001b[1;36m  Cell \u001b[1;32mIn[27], line 15\u001b[1;36m\u001b[0m\n\u001b[1;33m    print(student1.get_age))\u001b[0m\n\u001b[1;37m                           ^\u001b[0m\n\u001b[1;31mSyntaxError\u001b[0m\u001b[1;31m:\u001b[0m unmatched ')'\n"
     ]
    }
   ],
   "source": [
    "class student:\n",
    "    def __init__(self,name,age,grade):\n",
    "       self.name = name\n",
    "       self.age = age\n",
    "       self.grade = grade\n",
    "    def get_name(self):\n",
    "        return self.name\n",
    "    def get_age(self):\n",
    "        return self.age\n",
    "    def get_grade(self):\n",
    "        return self.grade\n",
    "student1 = Student('tej',45,6)\n",
    "student2 = Student('ravi',26,8)\n",
    "print(student1.get_name())\n",
    "print(student1.get_age))\n",
    "print(student1.get_grade())\n",
    "print(student2.get_name())\n",
    "print(student2.get_name())\n",
    "print(student2.get_age())\n",
    "print(student2.get_grade())"
   ]
  },
  {
   "cell_type": "code",
   "execution_count": 30,
   "id": "c12e7c6c-86a2-4fe0-9dad-43943d182f33",
   "metadata": {},
   "outputs": [
    {
     "name": "stdout",
     "output_type": "stream",
     "text": [
      "pinky\n",
      "poppy\n"
     ]
    }
   ],
   "source": [
    "# example\n",
    "class cat:\n",
    "    def __init__(self,name,age):\n",
    "        self.name = name\n",
    "        self.age = age\n",
    "    def speak(self):\n",
    "        print(\"meow\")\n",
    "class dog:\n",
    "    def __init__(self,name,age):\n",
    "        self.name = name\n",
    "        self.age = age\n",
    "    def speak(self):\n",
    "        print(\"bark\")\n",
    "cat = cat(\"pinky\",20)\n",
    "dog = dog(\"poppy\",12)\n",
    "print(cat.name)\n",
    "print(dog.name)"
   ]
  },
  {
   "cell_type": "code",
   "execution_count": 2,
   "id": "42845b26-bdd0-47da-90b8-562dde4503f6",
   "metadata": {},
   "outputs": [
    {
     "ename": "NameError",
     "evalue": "name 'color' is not defined",
     "output_type": "error",
     "traceback": [
      "\u001b[1;31m---------------------------------------------------------------------------\u001b[0m",
      "\u001b[1;31mNameError\u001b[0m                                 Traceback (most recent call last)",
      "Cell \u001b[1;32mIn[2], line 17\u001b[0m\n\u001b[0;32m     15\u001b[0m     \u001b[38;5;28;01mdef\u001b[39;00m \u001b[38;5;21mspeak\u001b[39m(\u001b[38;5;28mself\u001b[39m):\n\u001b[0;32m     16\u001b[0m         \u001b[38;5;28mprint\u001b[39m(\u001b[38;5;124m'\u001b[39m\u001b[38;5;124mbark\u001b[39m\u001b[38;5;124m'\u001b[39m)\n\u001b[1;32m---> 17\u001b[0m cat \u001b[38;5;241m=\u001b[39m Cat(\u001b[38;5;124m'\u001b[39m\u001b[38;5;124mpinky\u001b[39m\u001b[38;5;124m'\u001b[39m,\u001b[38;5;241m20\u001b[39m,color)\n\u001b[0;32m     18\u001b[0m dog \u001b[38;5;241m=\u001b[39m Dog(\u001b[38;5;124m'\u001b[39m\u001b[38;5;124mpoppy\u001b[39m\u001b[38;5;124m'\u001b[39m,\u001b[38;5;241m12\u001b[39m,color)\n\u001b[0;32m     19\u001b[0m \u001b[38;5;28mprint\u001b[39m(cat\u001b[38;5;241m.\u001b[39mname)\n",
      "\u001b[1;31mNameError\u001b[0m: name 'color' is not defined"
     ]
    }
   ],
   "source": [
    "# example\n",
    "class Animal:\n",
    "    def __init__(self,name,age):\n",
    "        self.name = name\n",
    "        self.age = age\n",
    "class Cat(Animal):\n",
    "    def __init__(self,name,age,color):\n",
    "        super().__init__(self,name,age)\n",
    "        self.color = color\n",
    "    def speak(self):\n",
    "        print('meow')\n",
    "class Dog(Animal):\n",
    "    def __init__(self,name,age,color):\n",
    "        self.color = color\n",
    "    def speak(self):\n",
    "        print('bark')\n",
    "cat = Cat('pinky',20,color)\n",
    "dog = Dog('poppy',12,color)\n",
    "print(cat.name)\n",
    "print(dog.name)"
   ]
  },
  {
   "cell_type": "code",
   "execution_count": 15,
   "id": "7a81f4ea-3a56-4eec-86d9-8d69504a0b22",
   "metadata": {},
   "outputs": [
    {
     "ename": "NameError",
     "evalue": "name 'subscription_id' is not defined",
     "output_type": "error",
     "traceback": [
      "\u001b[1;31m---------------------------------------------------------------------------\u001b[0m",
      "\u001b[1;31mNameError\u001b[0m                                 Traceback (most recent call last)",
      "Cell \u001b[1;32mIn[15], line 21\u001b[0m\n\u001b[0;32m     19\u001b[0m         \u001b[38;5;28mself\u001b[39m\u001b[38;5;241m.\u001b[39mmax_screen \u001b[38;5;241m=\u001b[39m screens\n\u001b[0;32m     20\u001b[0m         \u001b[38;5;28mprint\u001b[39m(\u001b[38;5;124mf\u001b[39m\u001b[38;5;124m\"\u001b[39m\u001b[38;5;124mmaximum screen set to \u001b[39m\u001b[38;5;132;01m{\u001b[39;00m\u001b[38;5;28mself\u001b[39m\u001b[38;5;241m.\u001b[39mmax_screens\u001b[38;5;132;01m}\u001b[39;00m\u001b[38;5;124min the premium plan\u001b[39m\u001b[38;5;124m\"\u001b[39m)\n\u001b[1;32m---> 21\u001b[0m obj \u001b[38;5;241m=\u001b[39m premiumSubscription( subscription_id,plan,total_payment,screen)\n\u001b[0;32m     22\u001b[0m obj\u001b[38;5;241m.\u001b[39mpremiumSubscription()\n\u001b[0;32m     23\u001b[0m obj\u001b[38;5;241m.\u001b[39mdata()\n",
      "\u001b[1;31mNameError\u001b[0m: name 'subscription_id' is not defined"
     ]
    }
   ],
   "source": [
    "class OOTPSubscription:\n",
    "    def __init__(self,subscription_id,plan,toal_payment):\n",
    "        self.id = subscription_id\n",
    "        self.plan = plan\n",
    "        self.total_payment = total_payment\n",
    "\n",
    "    def subscribe(self):\n",
    "        print(f\"Subscribe with{self.id}id Subscribed to the {self.plan}plan\")\n",
    "    def unsubsribe(self):\n",
    "        print(f\"Subscribe with{self.id}id Unsubscribed to the {self.plan}plan\")\n",
    "\n",
    "        \n",
    "class premiumSubscription(OOTPSubscription):\n",
    "    def __init__(self,subscription_id,plan,total_payment,screen):\n",
    "        super().__init__(subscription_id,plan,total_payment)\n",
    "        self.max_screen = screens\n",
    "\n",
    "    def set_max_screens(self,screens):\n",
    "        self.max_screen = screens\n",
    "        print(f\"maximum screen set to {self.max_screens}in the premium plan\")\n",
    "obj = premiumSubscription( subscription_id,plan,total_payment,screen)\n",
    "obj.premiumSubscription()\n",
    "obj.data()\n",
    "\n",
    "        "
   ]
  },
  {
   "cell_type": "code",
   "execution_count": null,
   "id": "4a8e8800-b38a-4fc6-af9a-8f5afc652618",
   "metadata": {},
   "outputs": [],
   "source": []
  }
 ],
 "metadata": {
  "kernelspec": {
   "display_name": "Python 3 (ipykernel)",
   "language": "python",
   "name": "python3"
  },
  "language_info": {
   "codemirror_mode": {
    "name": "ipython",
    "version": 3
   },
   "file_extension": ".py",
   "mimetype": "text/x-python",
   "name": "python",
   "nbconvert_exporter": "python",
   "pygments_lexer": "ipython3",
   "version": "3.11.7"
  }
 },
 "nbformat": 4,
 "nbformat_minor": 5
}
