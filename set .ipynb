{
 "cells": [
  {
   "cell_type": "code",
   "execution_count": 2,
   "id": "1d1b6b7e-4d80-4e11-9672-2492eaa337e1",
   "metadata": {},
   "outputs": [
    {
     "name": "stdout",
     "output_type": "stream",
     "text": [
      "{1, 2, 3}\n"
     ]
    }
   ],
   "source": [
    "# set\n",
    "# unordered\n",
    "# unindex\n",
    "# mutable\n",
    "# no duplicate element\n",
    "s= { 1,2,3,1,3,2}\n",
    "print(s)"
   ]
  },
  {
   "cell_type": "code",
   "execution_count": 5,
   "id": "97abcae6-0c80-40a2-8b15-0a500fcc7c10",
   "metadata": {},
   "outputs": [],
   "source": [
    "#  function of set\n",
    "# set()\n",
    "# pop()\n",
    "# clear()\n",
    "# add()\n",
    "# discarded()\n",
    "# updated()"
   ]
  },
  {
   "cell_type": "code",
   "execution_count": 6,
   "id": "f5196849-4d21-4f88-92ef-41ba62f9d3bc",
   "metadata": {},
   "outputs": [
    {
     "name": "stdout",
     "output_type": "stream",
     "text": [
      "{10, 20, 30}\n"
     ]
    }
   ],
   "source": [
    "# set()\n",
    "l={10,20,30}\n",
    "s=set(l)\n",
    "print(s)"
   ]
  },
  {
   "cell_type": "code",
   "execution_count": 7,
   "id": "bac34218-cf02-4d3c-9d02-e693f1d150ae",
   "metadata": {},
   "outputs": [
    {
     "name": "stdout",
     "output_type": "stream",
     "text": [
      "{40, 10, 20, 90, 30}\n"
     ]
    }
   ],
   "source": [
    "# add()\n",
    "s={10,20,30,40}\n",
    "s.add(90)\n",
    "print(s)"
   ]
  },
  {
   "cell_type": "code",
   "execution_count": 9,
   "id": "b9401533-c3d2-45a6-96c9-97f9df28f6ee",
   "metadata": {},
   "outputs": [
    {
     "name": "stdout",
     "output_type": "stream",
     "text": [
      "{20, 30}\n"
     ]
    }
   ],
   "source": [
    "# pop()\n",
    "s={10,20,30}\n",
    "s.pop()\n",
    "print(s)"
   ]
  },
  {
   "cell_type": "code",
   "execution_count": 11,
   "id": "04581e48-ac67-489e-80ac-e42561ac287a",
   "metadata": {},
   "outputs": [
    {
     "name": "stdout",
     "output_type": "stream",
     "text": [
      "{10, 20, 30}\n"
     ]
    }
   ],
   "source": [
    "# remove()\n",
    "s={10,20,40,30}\n",
    "s.remove(40)\n",
    "print(s)"
   ]
  },
  {
   "cell_type": "code",
   "execution_count": 13,
   "id": "4f203e51-cdcf-464d-8f71-24bdb6286ec8",
   "metadata": {},
   "outputs": [
    {
     "name": "stdout",
     "output_type": "stream",
     "text": [
      "{10, 20, 30}\n"
     ]
    }
   ],
   "source": [
    "# discard()\n",
    "s={ 10,20,30,40}\n",
    "s.discard(40)\n",
    "print (s)"
   ]
  },
  {
   "cell_type": "code",
   "execution_count": 14,
   "id": "871e4df3-038b-4197-a2f6-102f753b2806",
   "metadata": {},
   "outputs": [
    {
     "name": "stdout",
     "output_type": "stream",
     "text": [
      "set()\n"
     ]
    }
   ],
   "source": [
    "# clear()\n",
    "s={10,20,30,40}\n",
    "s.clear()\n",
    "print (s)"
   ]
  },
  {
   "cell_type": "code",
   "execution_count": 15,
   "id": "a4e15888-a73b-4a6a-b2bd-48e894177929",
   "metadata": {},
   "outputs": [
    {
     "name": "stdout",
     "output_type": "stream",
     "text": [
      "{70, 10, 20, 90, 60, 30}\n"
     ]
    }
   ],
   "source": [
    "# update()\n",
    "s={10,20,30}\n",
    "l=[70,90,60]\n",
    "s.update(l)\n",
    "print(s)"
   ]
  },
  {
   "cell_type": "code",
   "execution_count": null,
   "id": "6b50addf-9d07-4fc2-b4ba-8fcbe0ebbcd8",
   "metadata": {},
   "outputs": [],
   "source": []
  }
 ],
 "metadata": {
  "kernelspec": {
   "display_name": "Python 3 (ipykernel)",
   "language": "python",
   "name": "python3"
  },
  "language_info": {
   "codemirror_mode": {
    "name": "ipython",
    "version": 3
   },
   "file_extension": ".py",
   "mimetype": "text/x-python",
   "name": "python",
   "nbconvert_exporter": "python",
   "pygments_lexer": "ipython3",
   "version": "3.11.7"
  }
 },
 "nbformat": 4,
 "nbformat_minor": 5
}
