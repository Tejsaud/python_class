{
 "cells": [
  {
   "cell_type": "code",
   "execution_count": null,
   "id": "c5932613-fb3b-42cf-9f2a-681717f16d25",
   "metadata": {},
   "outputs": [],
   "source": [
    "# class <name\n",
    "# <method>\n",
    "# <name>"
   ]
  },
  {
   "cell_type": "code",
   "execution_count": null,
   "id": "acd406c0-a164-4182-911c-ea78b8561726",
   "metadata": {},
   "outputs": [],
   "source": []
  },
  {
   "cell_type": "code",
   "execution_count": null,
   "id": "c8e7dbc9-c621-4665-add7-fde1054ce251",
   "metadata": {},
   "outputs": [],
   "source": []
  },
  {
   "cell_type": "code",
   "execution_count": 17,
   "id": "821c0917-2881-4dd0-85e1-4f0949f374c4",
   "metadata": {},
   "outputs": [
    {
     "name": "stdout",
     "output_type": "stream",
     "text": [
      "red\n",
      "mercedes\n"
     ]
    }
   ],
   "source": [
    "class car:\n",
    "    color = \"red\"\n",
    "    brand = \"mercedes\"\n",
    "car1 = car()\n",
    "print(car.color)\n",
    "print(car.brand)"
   ]
  },
  {
   "cell_type": "code",
   "execution_count": 11,
   "id": "265897fa-ac8e-4d64-9186-5fd2ceaeb408",
   "metadata": {},
   "outputs": [
    {
     "name": "stdout",
     "output_type": "stream",
     "text": [
      "Hello World\n"
     ]
    }
   ],
   "source": [
    "class Hello:\n",
    "    def hello(self):\n",
    "        print(\"Hello World\")\n",
    "obj = Hello()\n",
    "obj.hello()"
   ]
  },
  {
   "cell_type": "code",
   "execution_count": 13,
   "id": "fe263077-1297-4c1e-822a-ddb706d7a2ff",
   "metadata": {},
   "outputs": [
    {
     "name": "stdin",
     "output_type": "stream",
     "text": [
      "Enter l =  40\n",
      "Enter b =  45\n"
     ]
    },
    {
     "name": "stdout",
     "output_type": "stream",
     "text": [
      "1800\n"
     ]
    }
   ],
   "source": [
    "class cal:\n",
    "    def area(self):\n",
    "        l = int(input(\"Enter l = \"))\n",
    "        b = int(input(\"Enter b = \"))\n",
    "        a = l*b\n",
    "        print(a)\n",
    "obj = cal()\n",
    "obj.area()"
   ]
  },
  {
   "cell_type": "code",
   "execution_count": 16,
   "id": "0609f6fc-4c48-4a17-bda7-6ee8ff284213",
   "metadata": {},
   "outputs": [
    {
     "name": "stdin",
     "output_type": "stream",
     "text": [
      "Enter h = 4\n",
      "Enter l =  4\n",
      "Enter b =  4\n"
     ]
    },
    {
     "name": "stdout",
     "output_type": "stream",
     "text": [
      "16\n"
     ]
    }
   ],
   "source": [
    "class cal:\n",
    "    def volume(self,h):\n",
    "        l = int(input(\"Enter l = \"))\n",
    "        b = int(input(\"Enter b = \"))\n",
    "        v = l*b*h\n",
    "        print(v)\n",
    "obj = cal()\n",
    "h = int(input(\"Enter h =\"))\n",
    "\n",
    "obj.volume(h)"
   ]
  },
  {
   "cell_type": "code",
   "execution_count": 5,
   "id": "3b070ae1-88fa-4db3-a673-0e1ac00987d4",
   "metadata": {},
   "outputs": [
    {
     "name": "stdin",
     "output_type": "stream",
     "text": [
      "Enter l =  49\n",
      "Enter b =  56\n",
      "Enter h = 89\n"
     ]
    },
    {
     "name": "stdout",
     "output_type": "stream",
     "text": [
      "244216\n"
     ]
    }
   ],
   "source": [
    "class cal:\n",
    "    def __init__(self):\n",
    "       self.l = int(input(\"Enter l = \"))\n",
    "       self.b = int(input(\"Enter b = \"))\n",
    "       self.h = int(input(\"Enter h =\"))\n",
    "    def volume(self):\n",
    "        v =self.l*self.b*self.h\n",
    "        print(v)\n",
    "obj = cal()\n",
    "obj.volume()"
   ]
  },
  {
   "cell_type": "code",
   "execution_count": 6,
   "id": "81dc7f60-0dab-4ddf-8d15-db3e304a8ea1",
   "metadata": {},
   "outputs": [
    {
     "name": "stdin",
     "output_type": "stream",
     "text": [
      "Enter name = tej\n",
      "Enter age = 45\n",
      "Enter add =  dhn\n"
     ]
    },
    {
     "name": "stdout",
     "output_type": "stream",
     "text": [
      "tej dhn\n",
      "Hello World I am tej.I am45.I am from dhn\n"
     ]
    }
   ],
   "source": [
    "class Info:\n",
    "    def __init__(self):\n",
    "        self.name = input(\"Enter name =\")\n",
    "        self.age = int(input(\"Enter age =\"))\n",
    "        self.add = input(\"Enter add = \")\n",
    "    def data(self):\n",
    "        print(self.name,self.add)\n",
    "    def info(self):\n",
    "        print(f\"Hello World I am {self.name}.I am{self.age}.I am from {self.add}\")\n",
    "obj = Info()\n",
    "obj.data()\n",
    "obj.info()"
   ]
  },
  {
   "cell_type": "code",
   "execution_count": 10,
   "id": "5e121c8f-dd31-431e-b244-27d6d474e901",
   "metadata": {},
   "outputs": [
    {
     "name": "stdin",
     "output_type": "stream",
     "text": [
      "Enter name =  sikha\n",
      "Enter age = 45\n",
      "Enter add =  mnr\n"
     ]
    },
    {
     "name": "stdout",
     "output_type": "stream",
     "text": [
      "sikha mnr\n"
     ]
    },
    {
     "ename": "AttributeError",
     "evalue": "'Info' object has no attribute 'name'",
     "output_type": "error",
     "traceback": [
      "\u001b[1;31m---------------------------------------------------------------------------\u001b[0m",
      "\u001b[1;31mAttributeError\u001b[0m                            Traceback (most recent call last)",
      "Cell \u001b[1;32mIn[10], line 15\u001b[0m\n\u001b[0;32m     13\u001b[0m obj \u001b[38;5;241m=\u001b[39m Info(name,age,add)\n\u001b[0;32m     14\u001b[0m obj\u001b[38;5;241m.\u001b[39mdata()\n\u001b[1;32m---> 15\u001b[0m obj\u001b[38;5;241m.\u001b[39minfo()\n",
      "Cell \u001b[1;32mIn[10], line 9\u001b[0m, in \u001b[0;36mInfo.info\u001b[1;34m(self)\u001b[0m\n\u001b[0;32m      8\u001b[0m \u001b[38;5;28;01mdef\u001b[39;00m \u001b[38;5;21minfo\u001b[39m(\u001b[38;5;28mself\u001b[39m):\n\u001b[1;32m----> 9\u001b[0m     \u001b[38;5;28mprint\u001b[39m(\u001b[38;5;124mf\u001b[39m\u001b[38;5;124m\"\u001b[39m\u001b[38;5;124mHello World I am \u001b[39m\u001b[38;5;132;01m{\u001b[39;00m\u001b[38;5;28mself\u001b[39m\u001b[38;5;241m.\u001b[39mname\u001b[38;5;132;01m}\u001b[39;00m\u001b[38;5;124m.I am\u001b[39m\u001b[38;5;132;01m{\u001b[39;00m\u001b[38;5;28mself\u001b[39m\u001b[38;5;241m.\u001b[39mage\u001b[38;5;132;01m}\u001b[39;00m\u001b[38;5;124m.I am from \u001b[39m\u001b[38;5;132;01m{\u001b[39;00m\u001b[38;5;28mself\u001b[39m\u001b[38;5;241m.\u001b[39madd\u001b[38;5;132;01m}\u001b[39;00m\u001b[38;5;124m\"\u001b[39m)\n",
      "\u001b[1;31mAttributeError\u001b[0m: 'Info' object has no attribute 'name'"
     ]
    }
   ],
   "source": [
    "class Info:\n",
    "    def __init__(self,name,age,add):\n",
    "        self.n = name\n",
    "        self.a = age\n",
    "        self.ad = add\n",
    "    def data(self):\n",
    "        print(self.n,self.ad)\n",
    "    def info(self):\n",
    "        print(f\"Hello World I am {self.name}.I am{self.age}.I am from {self.add}\")\n",
    "name = input(\"Enter name = \") \n",
    "age = int(input(\"Enter age =\"))\n",
    "add = input(\"Enter add = \")\n",
    "obj = Info(name,age,add)\n",
    "obj.data()\n",
    "obj.info()"
   ]
  },
  {
   "cell_type": "code",
   "execution_count": null,
   "id": "6b643816-f0fa-4824-a46a-c2b478af389c",
   "metadata": {},
   "outputs": [],
   "source": []
  },
  {
   "cell_type": "code",
   "execution_count": null,
   "id": "de3df6a7-0603-4ffb-ad64-071742d37edc",
   "metadata": {},
   "outputs": [],
   "source": []
  }
 ],
 "metadata": {
  "kernelspec": {
   "display_name": "Python 3 (ipykernel)",
   "language": "python",
   "name": "python3"
  },
  "language_info": {
   "codemirror_mode": {
    "name": "ipython",
    "version": 3
   },
   "file_extension": ".py",
   "mimetype": "text/x-python",
   "name": "python",
   "nbconvert_exporter": "python",
   "pygments_lexer": "ipython3",
   "version": "3.11.7"
  }
 },
 "nbformat": 4,
 "nbformat_minor": 5
}
