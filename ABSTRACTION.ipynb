{
 "cells": [
  {
   "cell_type": "code",
   "execution_count": null,
   "id": "9376b56c-ca24-483a-b151-6dbd2d096d1f",
   "metadata": {},
   "outputs": [],
   "source": [
    "# ABSTRACTION \n",
    "# public ,porotected , private\n"
   ]
  },
  {
   "cell_type": "code",
   "execution_count": 2,
   "id": "48ffbac0-3910-46e9-bd2c-d519c3c61445",
   "metadata": {},
   "outputs": [
    {
     "name": "stdout",
     "output_type": "stream",
     "text": [
      "Tej\n",
      "54\n",
      "ktm\n"
     ]
    }
   ],
   "source": [
    "# public member\n",
    "class Info:\n",
    "    def __init__(self):\n",
    "        self.name= \"Tej\"\n",
    "        self.age = 54\n",
    "        self.add = \"ktm\"\n",
    "obj = Info()\n",
    "print(obj.name)\n",
    "print(obj.age)\n",
    "print(obj.add)\n"
   ]
  },
  {
   "cell_type": "code",
   "execution_count": 3,
   "id": "21b5d23c-2869-42e0-95e4-1347f9c9347a",
   "metadata": {},
   "outputs": [
    {
     "name": "stdout",
     "output_type": "stream",
     "text": [
      "Tej\n",
      "54\n",
      "ktm\n"
     ]
    }
   ],
   "source": [
    "# protected member\n",
    "class Info:\n",
    "    def __init__(self):\n",
    "        self._name= \"Tej\"\n",
    "        self._age = 54\n",
    "        self._add = \"ktm\"\n",
    "obj = Info()\n",
    "print(obj._name)\n",
    "print(obj._age)\n",
    "print(obj._add)\n",
    "\n"
   ]
  },
  {
   "cell_type": "code",
   "execution_count": null,
   "id": "09bdedfd-54b0-4add-aa89-fda07d395503",
   "metadata": {},
   "outputs": [],
   "source": [
    "# private member\n",
    "class Info:\n",
    "    def __init__(self):\n",
    "        self.name= \"Tej\"\n",
    "        self.age = 54\n",
    "        self.add = \"ktm\"\n",
    "obj = Info()\n",
    "print(obj.name)\n",
    "print(obj.age)\n",
    "print(obj.add)\n",
    "# yasma error auxa  hai taw "
   ]
  },
  {
   "cell_type": "code",
   "execution_count": 16,
   "id": "75dbe084-c083-4104-aa12-44366d9942d7",
   "metadata": {},
   "outputs": [
    {
     "ename": "AttributeError",
     "evalue": "'Info' object has no attribute '_age'",
     "output_type": "error",
     "traceback": [
      "\u001b[1;31m---------------------------------------------------------------------------\u001b[0m",
      "\u001b[1;31mAttributeError\u001b[0m                            Traceback (most recent call last)",
      "Cell \u001b[1;32mIn[16], line 15\u001b[0m\n\u001b[0;32m     12\u001b[0m         \u001b[38;5;28mprint\u001b[39m(\u001b[38;5;124mf\u001b[39m\u001b[38;5;124m\"\u001b[39m\u001b[38;5;124mHello World I am \u001b[39m\u001b[38;5;132;01m{\u001b[39;00m\u001b[38;5;28mself\u001b[39m\u001b[38;5;241m.\u001b[39mname\u001b[38;5;132;01m}\u001b[39;00m\u001b[38;5;124m. I am \u001b[39m\u001b[38;5;132;01m{\u001b[39;00m\u001b[38;5;28mself\u001b[39m\u001b[38;5;241m.\u001b[39m_age\u001b[38;5;132;01m}\u001b[39;00m\u001b[38;5;124m\"\u001b[39m)\n\u001b[0;32m     14\u001b[0m obj \u001b[38;5;241m=\u001b[39m Info()\n\u001b[1;32m---> 15\u001b[0m obj\u001b[38;5;241m.\u001b[39minfo()\n\u001b[0;32m     16\u001b[0m obj\u001b[38;5;241m.\u001b[39mdata()\n\u001b[0;32m     17\u001b[0m \u001b[38;5;28mprint\u001b[39m(obj\u001b[38;5;241m.\u001b[39mname)\n",
      "Cell \u001b[1;32mIn[16], line 12\u001b[0m, in \u001b[0;36mInfo.info\u001b[1;34m(self)\u001b[0m\n\u001b[0;32m     11\u001b[0m \u001b[38;5;28;01mdef\u001b[39;00m \u001b[38;5;21minfo\u001b[39m(\u001b[38;5;28mself\u001b[39m):\n\u001b[1;32m---> 12\u001b[0m     \u001b[38;5;28mprint\u001b[39m(\u001b[38;5;124mf\u001b[39m\u001b[38;5;124m\"\u001b[39m\u001b[38;5;124mHello World I am \u001b[39m\u001b[38;5;132;01m{\u001b[39;00m\u001b[38;5;28mself\u001b[39m\u001b[38;5;241m.\u001b[39mname\u001b[38;5;132;01m}\u001b[39;00m\u001b[38;5;124m. I am \u001b[39m\u001b[38;5;132;01m{\u001b[39;00m\u001b[38;5;28mself\u001b[39m\u001b[38;5;241m.\u001b[39m_age\u001b[38;5;132;01m}\u001b[39;00m\u001b[38;5;124m\"\u001b[39m)\n",
      "\u001b[1;31mAttributeError\u001b[0m: 'Info' object has no attribute '_age'"
     ]
    }
   ],
   "source": [
    "# public member\n",
    "class Data:\n",
    "    def __init__(self):  \n",
    "        self.name = \"Tej\"  # public\n",
    "        self.age = 54     #protected\n",
    "        self.add = \"ktm\"   # private\n",
    "    def data(self):\n",
    "         print(f\"Hello World I am {self.name}. I am from {self._add}. I am {self._age}\")\n",
    "        \n",
    "class Info(Data):\n",
    "    def info(self):\n",
    "        print(f\"Hello World I am {self.name}. I am {self._age}\")\n",
    "        \n",
    "obj = Info()\n",
    "obj.info()\n",
    "obj.data()\n",
    "print(obj.name)\n"
   ]
  },
  {
   "cell_type": "code",
   "execution_count": 19,
   "id": "89fbcc93-81d0-4c18-84ed-e85f14f46e18",
   "metadata": {},
   "outputs": [
    {
     "name": "stdout",
     "output_type": "stream",
     "text": [
      "Parrot can not fly\n",
      "Penguin can swim\n"
     ]
    },
    {
     "ename": "NameError",
     "evalue": "name 'swim_test' is not defined",
     "output_type": "error",
     "traceback": [
      "\u001b[1;31m---------------------------------------------------------------------------\u001b[0m",
      "\u001b[1;31mNameError\u001b[0m                                 Traceback (most recent call last)",
      "Cell \u001b[1;32mIn[19], line 24\u001b[0m\n\u001b[0;32m     21\u001b[0m flying_test(blu)\n\u001b[0;32m     22\u001b[0m flying_test(peggy)\n\u001b[1;32m---> 24\u001b[0m swim_test(blu)\n\u001b[0;32m     25\u001b[0m swim_test(peggy)\n",
      "\u001b[1;31mNameError\u001b[0m: name 'swim_test' is not defined"
     ]
    }
   ],
   "source": [
    "class Parrot:\n",
    "    def fly(self):\n",
    "        print(\"Parrot can fly\")\n",
    "    def swim(self):\n",
    "        print(\"Parrot can not fly\")\n",
    "\n",
    "class Penguin:\n",
    "    def fly(self):\n",
    "        print(\"Penguin can not fly\")\n",
    "    def swim(self):\n",
    "        print(\"Penguin can swim\")\n",
    "\n",
    "# comman interface\n",
    "def flying_test(bird):\n",
    "    bird.swim()\n",
    "\n",
    "# instantiate objects\n",
    "blu = Parrot()\n",
    "peggy = Penguin()\n",
    "# passing the object\n",
    "flying_test(blu)\n",
    "flying_test(peggy)\n",
    "\n",
    "swim_test(blu)\n",
    "swim_test(peggy)"
   ]
  },
  {
   "cell_type": "code",
   "execution_count": 26,
   "id": "7156c254-fb00-4f73-805f-907cb5cad572",
   "metadata": {},
   "outputs": [
    {
     "name": "stdout",
     "output_type": "stream",
     "text": [
      "Tej\n"
     ]
    }
   ],
   "source": [
    "# STR METHOD\n",
    "class Info:\n",
    "    def __init__(self):\n",
    "        self.name = \"Tej\"\n",
    "        self.age = 39\n",
    "        self.add = \"Dhangadhi\"\n",
    "    def __str__(self):      #only return string\n",
    "         return self.name\n",
    "\n",
    "obj = Info()\n",
    "print(obj)"
   ]
  },
  {
   "cell_type": "code",
   "execution_count": 28,
   "id": "35dfc83e-6473-410c-829b-974f6e591da6",
   "metadata": {},
   "outputs": [
    {
     "name": "stdout",
     "output_type": "stream",
     "text": [
      "Tej\n",
      "Tej\n",
      "Tej\n"
     ]
    }
   ],
   "source": [
    "# STR METHOD (NEXT METHOD )\n",
    "class Info:\n",
    "    def __init__(self):\n",
    "        self.name = \"Tej\"\n",
    "        self.age = 39\n",
    "        self.add = \"Dhangadhi\"\n",
    "    def __str__(self):      #only return string\n",
    "         return str(self.name)\n",
    "\n",
    "obj = Info()\n",
    "print(obj)\n",
    "print(str(obj))# obj converted to sting\n",
    "print(obj.__str__())"
   ]
  },
  {
   "cell_type": "code",
   "execution_count": 38,
   "id": "4223325c-fa39-430a-8e2b-c837e09290e6",
   "metadata": {},
   "outputs": [
    {
     "ename": "IndentationError",
     "evalue": "unindent does not match any outer indentation level (<tokenize>, line 7)",
     "output_type": "error",
     "traceback": [
      "\u001b[1;36m  File \u001b[1;32m<tokenize>:7\u001b[1;36m\u001b[0m\n\u001b[1;33m    def __str__(self):\u001b[0m\n\u001b[1;37m    ^\u001b[0m\n\u001b[1;31mIndentationError\u001b[0m\u001b[1;31m:\u001b[0m unindent does not match any outer indentation level\n"
     ]
    }
   ],
   "source": [
    "# operator overloading\n",
    "class  Point:\n",
    "    def __init__(self,x = 0,y = 0):\n",
    "        self.x = x\n",
    "        self.y = y\n",
    "\n",
    "     def __str__(self):\n",
    "         return f\"({self.x},{self.y})\"\n",
    "     def __add__(self,other):\n",
    "          x = self.x + other.x\n",
    "          y = self.y + other.y\n",
    "         return Point(x,y)\n",
    "\n",
    "p1 = Point(2,3)\n",
    "p2 = Point(-1,2)\n",
    "print(p1+p2)"
   ]
  },
  {
   "cell_type": "code",
   "execution_count": null,
   "id": "4fa6836c-b892-4fed-bfa7-f9f705f8636b",
   "metadata": {},
   "outputs": [],
   "source": []
  }
 ],
 "metadata": {
  "kernelspec": {
   "display_name": "Python 3 (ipykernel)",
   "language": "python",
   "name": "python3"
  },
  "language_info": {
   "codemirror_mode": {
    "name": "ipython",
    "version": 3
   },
   "file_extension": ".py",
   "mimetype": "text/x-python",
   "name": "python",
   "nbconvert_exporter": "python",
   "pygments_lexer": "ipython3",
   "version": "3.11.7"
  }
 },
 "nbformat": 4,
 "nbformat_minor": 5
}
