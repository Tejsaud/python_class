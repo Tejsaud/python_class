{
 "cells": [
  {
   "cell_type": "code",
   "execution_count": 2,
   "id": "8ef041ba-15d4-4f0d-89a2-de0d9bb16466",
   "metadata": {},
   "outputs": [
    {
     "name": "stdout",
     "output_type": "stream",
     "text": [
      "hi tej\n"
     ]
    }
   ],
   "source": [
    "# PUBLIC : ACCESS EVERYWHERE(DEFAULT)\n",
    "# EXAMPLE :\n",
    "class A:\n",
    "    def xyz(self):  # acess everywhere inside the class and out side the class .same class and different class \n",
    "        print(\"hi tej\")\n",
    "\n",
    "class B:\n",
    "    def abc(self):\n",
    "        print(\"hello bye\")\n",
    "        d = A()\n",
    "        d.xyz()\n",
    "\n",
    "obj = A()\n",
    "obj.xyz()"
   ]
  },
  {
   "cell_type": "code",
   "execution_count": 18,
   "id": "68af5948-2473-4cbe-89ac-c3903ca8859c",
   "metadata": {},
   "outputs": [
    {
     "name": "stdout",
     "output_type": "stream",
     "text": [
      "i am hansome\n",
      "i am tej\n"
     ]
    }
   ],
   "source": [
    "# PROTECTED CLASS: ACCESS IN INHERITED AREA\n",
    "# EXAMPLE:\n",
    "class A:\n",
    "    def _xyz(self):     # yasma hamile bujnu parna kura chae  k xa vana hamila protected vana paxi _halnu parxa ani yasma class first lai  inherit garnun parxa\n",
    "        print(\"i am tej\")\n",
    "\n",
    "class B(A):\n",
    "    def _abc(self):\n",
    "        print(\"i am hansome\")\n",
    "        d = A()\n",
    "        d._xyz()\n",
    "\n",
    "s = B()\n",
    "s._abc()\n",
    "\n"
   ]
  },
  {
   "cell_type": "code",
   "execution_count": null,
   "id": "da22b201-ed84-4c27-bd87-891a6d3ab523",
   "metadata": {},
   "outputs": [],
   "source": []
  },
  {
   "cell_type": "code",
   "execution_count": 16,
   "id": "2d328037-18a7-4b5b-9bfc-2af2b23ea48b",
   "metadata": {},
   "outputs": [
    {
     "name": "stdout",
     "output_type": "stream",
     "text": [
      " i am boy\n"
     ]
    }
   ],
   "source": [
    "# PRIVATE CLASS :ACESS WITHIN THE SAME CLASS .\n",
    "# EXAMPLE :\n",
    "class A:\n",
    "    def __xyz(self):\n",
    "        print(\" i am boy\")\n",
    "    def abc(self):\n",
    "        q =A()\n",
    "        q.__xyz()\n",
    "\n",
    "ob =A()\n",
    "ob.abc()\n",
    "\n",
    "\n",
    "\n",
    "\n"
   ]
  },
  {
   "cell_type": "code",
   "execution_count": null,
   "id": "a38a38f9-e6ee-425b-9255-b6937970076b",
   "metadata": {},
   "outputs": [],
   "source": [
    "# POLYMORPHISM: POLYMORPHISM MEANS MANY FORM.\n",
    "# AN ENTITY CAN WORKS IN MULTIPLE ROLE .THIS CAPABILITY IS CALLED POLYMORPHISM.\n"
   ]
  },
  {
   "cell_type": "markdown",
   "id": "ba9fe6f3-81a5-47b1-8cbc-ba678dc6a0c9",
   "metadata": {},
   "source": [
    "# METHOD OVERLOADING : A FUNCTION CAN BE CALLED WITH DIFFERENT NUMBER OF ARGUMENTS.\n",
    "# METHOD OF OVERRIDING : MUKTIPLE FUNCTION WITH SAME NAME AND SAME NUMBER  OF PARAMETERS.\n",
    "\n",
    "\n",
    " # METHOD OVERLOADING\n",
    "# EXAMPLE:\n",
    "class VIP:\n",
    "    def vsp(self, x = None  , y = None):\n",
    "        if x==None and y==None:\n",
    "            print(\"Hello this is me\")\n",
    "            print(\"Thanks for visit\")\n",
    "        elif x!=None and y = None:\n",
    "             f = 1\n",
    "             for i in range(1,x+1):\n",
    "                 f = f+1\n",
    "                 print(f)\n",
    "        else:\n",
    "           print(\"Addition is : \",x+y)\n",
    "ob =VIP()\n",
    "ob.vsp()\n",
    "OB.vsp(5)\n",
    "ob.vsp(40,50)\n",
    "            "
   ]
  },
  {
   "cell_type": "code",
   "execution_count": 31,
   "id": "207e1966-72f2-4de2-b10b-56009fa3ff99",
   "metadata": {},
   "outputs": [
    {
     "name": "stdout",
     "output_type": "stream",
     "text": [
      "i am tej\n"
     ]
    }
   ],
   "source": [
    "# METHOD OF OVERRIDING :\n",
    "# EXAMPLE\n",
    "class A:\n",
    "    def vsp(self):\n",
    "        print(\"i am tej\")\n",
    "\n",
    "class B(A):\n",
    "    def vsp(self):\n",
    "        print(\" i love you mom\")\n",
    "    def xyz(self):\n",
    "        print(\"my brother is hansome\")\n",
    "\n",
    "obj = A()\n",
    "obj.vsp()\n"
   ]
  },
  {
   "cell_type": "code",
   "execution_count": 33,
   "id": "19288c33-0b72-4d96-87bc-428110dd8fea",
   "metadata": {},
   "outputs": [
    {
     "name": "stdout",
     "output_type": "stream",
     "text": [
      "45\n"
     ]
    }
   ],
   "source": [
    "# OPERATOR OVERLOADING;\n",
    "# EXAMPLE:\n",
    "class A:\n",
    "    def xyz(self,x):\n",
    "        self.x = x\n",
    "    def __add__(self,o):\n",
    "        return self.x+o.x\n",
    "\n",
    "o1 = A()\n",
    "o1.xyz(20)\n",
    "o2 = A()\n",
    "o2.xyz(25)\n",
    "print(o1+o2) # o1 chae self.x lai call garxa ani o2 chae o lai call garxa hai taw direct  + le  kam gardina yasma so hamila def __add__(self,o)garako.\n"
   ]
  },
  {
   "cell_type": "code",
   "execution_count": null,
   "id": "e91dca81-ce9b-47b4-8b42-6ced8875baed",
   "metadata": {},
   "outputs": [],
   "source": []
  }
 ],
 "metadata": {
  "kernelspec": {
   "display_name": "Python 3 (ipykernel)",
   "language": "python",
   "name": "python3"
  },
  "language_info": {
   "codemirror_mode": {
    "name": "ipython",
    "version": 3
   },
   "file_extension": ".py",
   "mimetype": "text/x-python",
   "name": "python",
   "nbconvert_exporter": "python",
   "pygments_lexer": "ipython3",
   "version": "3.11.7"
  }
 },
 "nbformat": 4,
 "nbformat_minor": 5
}
